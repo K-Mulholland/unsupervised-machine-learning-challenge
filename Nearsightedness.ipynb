{
 "cells": [
  {
   "cell_type": "markdown",
   "id": "bfc652fd",
   "metadata": {},
   "source": [
    "## **Part 1: Prepare the Data"
   ]
  },
  {
   "cell_type": "markdown",
   "id": "b7ab6bd8",
   "metadata": {},
   "source": [
    "Import the dependencies"
   ]
  },
  {
   "cell_type": "code",
   "execution_count": null,
   "id": "7eb61462",
   "metadata": {},
   "outputs": [],
   "source": [
    "pip install sklearn"
   ]
  },
  {
   "cell_type": "code",
   "execution_count": null,
   "id": "0ee22c21",
   "metadata": {},
   "outputs": [],
   "source": [
    "#how do you determine which dependencies to import when starting a project?\n",
    "#why is sklearn not found despite being installed?\n",
    "\n",
    "from sklearn.manifold import TSNE\n",
    "from sklearn.decomposition import PCA\n",
    "import matplotlib.pyplot as plt\n",
    "import pandas as pd\n",
    "from pathlib import Path"
   ]
  },
  {
   "cell_type": "markdown",
   "id": "d830fbe6",
   "metadata": {},
   "source": [
    "Read myopia.csv into a Pandas DataFrame"
   ]
  },
  {
   "cell_type": "code",
   "execution_count": null,
   "id": "be9afcbc",
   "metadata": {},
   "outputs": [],
   "source": [
    "#why is pd not defined?  \n",
    "#why does this way to read in csv file work in class examples but not here?\n",
    "\n",
    "file_path = '../Resources/myopia.csv'\n",
    "df = pd.read_csv(file_path)\n",
    "df. head()"
   ]
  },
  {
   "cell_type": "markdown",
   "id": "9c7a8306",
   "metadata": {},
   "source": [
    "Remove the \"MYOPIC\" column from the dataset\n",
    "(Why remove this column? The target column is needed for supervised machine learning, but it will make an unsupervised model biased. After all, the target column is effectively providing clusters already!)"
   ]
  },
  {
   "cell_type": "code",
   "execution_count": null,
   "id": "149eae65",
   "metadata": {},
   "outputs": [],
   "source": [
    "#print column names\n",
    "df.columns\n",
    "\n",
    "#remove column MYOPIC\n",
    "df.drop(columns=['MYOPIC'])"
   ]
  },
  {
   "cell_type": "markdown",
   "id": "e4090bcf",
   "metadata": {},
   "source": [
    "Standardize your dataset so that columns that contain larger values do not influence the outcome more than columns with smaller values"
   ]
  },
  {
   "cell_type": "code",
   "execution_count": null,
   "id": "3cf28255",
   "metadata": {},
   "outputs": [],
   "source": [
    "#what does standardize the dataset mean?  \n",
    "#which class example(s) standardize dataset?\n",
    "\n"
   ]
  },
  {
   "cell_type": "markdown",
   "id": "acf7bc92",
   "metadata": {},
   "source": [
    "## **Part 2: Apply Dimensionality Reduction\n"
   ]
  },
  {
   "cell_type": "markdown",
   "id": "c515654a",
   "metadata": {},
   "source": [
    "Perform dimensionality reduction with PCA. How did the number of the features change?\n",
    "\n"
   ]
  },
  {
   "cell_type": "code",
   "execution_count": null,
   "id": "7c3f8299",
   "metadata": {},
   "outputs": [],
   "source": []
  },
  {
   "cell_type": "markdown",
   "id": "5f9b557c",
   "metadata": {},
   "source": [
    "Further reduce the dataset dimensions with t-SNE and visually inspect the results. \n",
    "(To do this, run t-SNE on the principal components, which is the output of the PCA transformation.)"
   ]
  },
  {
   "cell_type": "code",
   "execution_count": null,
   "id": "2fc58933",
   "metadata": {},
   "outputs": [],
   "source": []
  },
  {
   "cell_type": "markdown",
   "id": "e48d16b2",
   "metadata": {},
   "source": [
    "Create a scatter plot of the t-SNE output. Are there distinct clusters?\n",
    "\n",
    "\n"
   ]
  },
  {
   "cell_type": "markdown",
   "id": "4e6fb2b8",
   "metadata": {},
   "source": [
    "## ** Part 3: Perform a Cluster Analysis with K-means\n",
    "\n"
   ]
  },
  {
   "cell_type": "markdown",
   "id": "2d1fd267",
   "metadata": {},
   "source": [
    "Create an elbow plot to identify the best number of clusters. Make sure to do the following:\n",
    "\n",
    "Use a for loop to determine the inertia for each k between 1 through 10.\n",
    "\n",
    "If possible, determine where the elbow of the plot is, and at which value of k it appears."
   ]
  },
  {
   "cell_type": "code",
   "execution_count": null,
   "id": "18669f42",
   "metadata": {},
   "outputs": [],
   "source": []
  },
  {
   "cell_type": "markdown",
   "id": "752ad10f",
   "metadata": {},
   "source": [
    "## ** Part 4: Make a Recommendation"
   ]
  },
  {
   "cell_type": "markdown",
   "id": "2d82efac",
   "metadata": {},
   "source": [
    "Based on your findings, write up a brief (one or two sentences) recommendation for your supervisor in your Jupyter Notebook. Can the patients be clustered? If so, into how many clusters?\n"
   ]
  },
  {
   "cell_type": "code",
   "execution_count": null,
   "id": "c7741fc0",
   "metadata": {},
   "outputs": [],
   "source": []
  }
 ],
 "metadata": {
  "kernelspec": {
   "display_name": "PythonData",
   "language": "python",
   "name": "pythondata"
  },
  "language_info": {
   "codemirror_mode": {
    "name": "ipython",
    "version": 3
   },
   "file_extension": ".py",
   "mimetype": "text/x-python",
   "name": "python",
   "nbconvert_exporter": "python",
   "pygments_lexer": "ipython3",
   "version": "3.8.13"
  }
 },
 "nbformat": 4,
 "nbformat_minor": 5
}
